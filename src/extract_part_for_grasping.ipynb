{
 "cells": [
  {
   "cell_type": "code",
   "execution_count": null,
   "metadata": {},
   "outputs": [],
   "source": [
    "import demjson\n",
    "import openai\n",
    "import pandas as pd\n",
    "import datetime\n",
    "import os"
   ]
  },
  {
   "cell_type": "code",
   "execution_count": null,
   "metadata": {},
   "outputs": [],
   "source": [
    "class GraspPartDetector:\n",
    "    def __init__(self, api_key=os.environ[\"OPENAI_API_KEY\"]):\n",
    "        openai.api_key = api_key\n",
    "        self.dialogue_df = pd.DataFrame(columns=[\"input\", \"output\"])\n",
    "        self.now = datetime.datetime.now().strftime(\"%Y%m%d%H%M%S\")\n",
    "\n",
    "    def receive_response_from_API(self, object_nm, background=\"\"):\n",
    "        content = f\"\"\"\n",
    "        Please provide a breakdown of the {object_nm} into several parts that the robot can grasp to transfer the object. Which part should be grasped to ensure a stable grip?\n",
    "        The object is placed horizontally on a foundation, and the robot grasps the object from above.\n",
    "        The robot is fixed on the foundation.\n",
    "        The robot has a parallel gripper.\n",
    "        Ensure a non-slip grip when performing the grasping.\n",
    "        \"\"\"\n",
    "        message_list = [\n",
    "            {\n",
    "                \"role\": \"system\",\n",
    "                \"content\": \"You are a multi-axis robot with a parallel gripper, skilled at stable object grasping.\",\n",
    "            },\n",
    "        ] + [\n",
    "            {\"role\": \"user\", \"content\": content},\n",
    "        ]\n",
    "        if background != \"\":\n",
    "            message_list += [\n",
    "                {\"role\": \"system\", \"content\": background},\n",
    "            ]\n",
    "        response = (\n",
    "            openai.ChatCompletion.create(\n",
    "                model=\"gpt-4-0613\",\n",
    "                messages=message_list,\n",
    "                temperature=0,\n",
    "            )\n",
    "            .choices[0][\"message\"][\"content\"]\n",
    "            .strip()\n",
    "        )\n",
    "        print(response)\n",
    "\n",
    "        convert_into_json = \"\"\"\n",
    "        Respond in the following JSON format, indicating the most suitable part and providing a brief explanation for your selection.:\n",
    "        {\n",
    "        \"most suitable part\": \"part name\",\n",
    "        \"explanation\": \"Please provide a brief explanation for your selection.\"\n",
    "        }\n",
    "        \"\"\"\n",
    "\n",
    "        message_list += [\n",
    "            {\"role\": \"assistant\", \"content\": response},\n",
    "        ] + [{\"role\": \"user\", \"content\": convert_into_json}]\n",
    "\n",
    "        response = (\n",
    "            openai.ChatCompletion.create(\n",
    "                model=\"gpt-4-0613\",\n",
    "                messages=message_list,\n",
    "                temperature=0,\n",
    "            )\n",
    "            .choices[0][\"message\"][\"content\"]\n",
    "            .strip()\n",
    "        )\n",
    "        output_json = self.load_json_str(response)\n",
    "\n",
    "        self.dialogue_df.loc[len(self.dialogue_df)] = [object_nm, output_json]\n",
    "        self.dialogue_df.to_csv(f\"../data/dialogue_{self.now}.csv\")\n",
    "        return response\n",
    "\n",
    "    def load_json_str(self, res_json_str):\n",
    "        try:\n",
    "            json_data = demjson.decode(res_json_str)\n",
    "            return json_data\n",
    "        except demjson.JSONDecodeError as e:\n",
    "            print(\"Invalid JSON format:\", e)"
   ]
  },
  {
   "cell_type": "code",
   "execution_count": null,
   "metadata": {},
   "outputs": [],
   "source": [
    "gpd = GraspPartDetector()\n",
    "object_nm = \"kitchen shears\"\n",
    "output_json = gpd.receive_response_from_API(object_nm)"
   ]
  },
  {
   "cell_type": "code",
   "execution_count": null,
   "metadata": {},
   "outputs": [],
   "source": [
    "print(output_json)"
   ]
  }
 ],
 "metadata": {
  "language_info": {
   "name": "python"
  },
  "orig_nbformat": 4
 },
 "nbformat": 4,
 "nbformat_minor": 2
}
